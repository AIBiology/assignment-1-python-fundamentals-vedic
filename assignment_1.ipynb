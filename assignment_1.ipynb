{
 "cells": [
  {
   "attachments": {},
   "cell_type": "markdown",
   "metadata": {},
   "source": [
    "# Problem 1--All students\n",
    "\n",
    "Write a Python function, called `find_max()`, to find and return the largest number in a non-empty list of numbers. E.g., if `nums = [1, 2, 3, 4, 5]`, `find_max(nums)` should return `5`. \n",
    "\n",
    "_Note:_ Python has a builtin `max()` function; don't use it for this exercise! The goal here is to practice solving basic programming problems on your own.\n",
    "\n",
    "_Purpose:_ To give you practice solving basic programming problems with Python and working with array-like data structures."
   ]
  },
  {
   "cell_type": "code",
   "execution_count": null,
   "metadata": {},
   "outputs": [],
   "source": []
  },
  {
   "cell_type": "markdown",
   "metadata": {},
   "source": [
    "Create and test some sample lists to demonstrate that your `find_max()` function works correctly."
   ]
  },
  {
   "cell_type": "code",
   "execution_count": null,
   "metadata": {},
   "outputs": [],
   "source": []
  },
  {
   "attachments": {},
   "cell_type": "markdown",
   "metadata": {},
   "source": [
    "## Optional auto-grading:\n",
    "If you want to check your answer, **once you think you have a good function, add your function's code to the file [find_max.py](find_max.py)**. When your submit your code in GitHub, a set of tests will be run against the find_max.py script to determine if your code is correct. Make sure you:\n",
    "* `git add find_max.py` \n",
    "* `git commit -m 'adding my solution'` (or whatever message you want)\n",
    "* `git push` so your code becomes part of the repository.\n",
    "\n",
    "GitHub should let you know if the tests pass."
   ]
  },
  {
   "attachments": {},
   "cell_type": "markdown",
   "metadata": {},
   "source": [
    "# Problem 2--Graduate students only. \n",
    "\n",
    "Write a Python function, `find_median()`, that returns the median value of a non-empty list of numbers. Use the [usual definition of \"median\"](https://stattrek.com/statistics/dictionary.aspx?definition=median). You will likely find the [Python list documentation](https://docs.python.org/3/tutorial/datastructures.html) to be helpful for solving this problem.\n",
    "\n",
    "_Note:_ You can find ready-to-use median function in numpy and elsewhere; don't use them for this exercise! The goal here is to practice solving basic programming problems on your own.\n",
    "\n",
    "_Purpose:_ To give you practice solving basic programming problems with Python and working with array-like data structures."
   ]
  },
  {
   "cell_type": "code",
   "execution_count": null,
   "metadata": {},
   "outputs": [],
   "source": []
  },
  {
   "cell_type": "markdown",
   "metadata": {},
   "source": [
    "Create and test some sample lists to demonstrate that your `find_median()` function works correctly."
   ]
  },
  {
   "cell_type": "code",
   "execution_count": null,
   "metadata": {},
   "outputs": [],
   "source": []
  },
  {
   "attachments": {},
   "cell_type": "markdown",
   "metadata": {},
   "source": [
    "## Optional auto-grading:\n",
    "If you want to check your answer, **once you think you have a good function, add your function's code to the file [find_median.py](find_median.py)**. When your submit your code in GitHub, a set of tests will be run against the find_median.py script to determine if your code is correct. Make sure you \n",
    "* `git add find_median.py` \n",
    "* `git commit -m 'adding my solution'` (or whatever message you want)\n",
    "* `git push` so your code becomes part of the repository."
   ]
  },
  {
   "attachments": {},
   "cell_type": "markdown",
   "metadata": {},
   "source": [
    "# Problem 3--All students\n",
    "\n",
    "Make a plot similar to the one in the Visualizing the Data section of the [Intro_to_Python notebook](https://github.com/AIBiology/Jupyter_Content/blob/main/Intro_to_Python_Student.ipynb), that shows a plot of salary distribution grouped by gender (sex in the dataset). You may also use other factors (discipline, yrs.service, etc.)\n",
    "\n",
    "*Purpose*: Give you experience visualizing data and grouping by different variables.\n",
    "\n",
    "This problem does not have an auto-graded portion. I'll grade it manually."
   ]
  },
  {
   "cell_type": "code",
   "execution_count": null,
   "metadata": {},
   "outputs": [],
   "source": []
  }
 ],
 "metadata": {
  "kernelspec": {
   "display_name": "Python 3",
   "language": "python",
   "name": "python3"
  },
  "language_info": {
   "codemirror_mode": {
    "name": "ipython",
    "version": 3
   },
   "file_extension": ".py",
   "mimetype": "text/x-python",
   "name": "python",
   "nbconvert_exporter": "python",
   "pygments_lexer": "ipython3",
   "version": "3.9.7 (tags/v3.9.7:1016ef3, Aug 30 2021, 20:19:38) [MSC v.1929 64 bit (AMD64)]"
  },
  "vscode": {
   "interpreter": {
    "hash": "11938c6bc6919ae2720b4d5011047913343b08a43b18698fd82dedb0d4417594"
   }
  }
 },
 "nbformat": 4,
 "nbformat_minor": 4
}
