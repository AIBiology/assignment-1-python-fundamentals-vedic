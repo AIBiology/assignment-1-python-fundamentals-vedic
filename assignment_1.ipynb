{
 "cells": [
  {
   "cell_type": "markdown",
   "metadata": {},
   "source": [
    "### Problem 1\n",
    "\n",
    "Write a Python function, `find_max()`, to find and return the largest number in a non-empty list of numbers. E.g., if `nums = [1, 2, 3, 4, 5]`, `find_max(nums)` should return `5`. \n",
    "\n",
    "_Note:_ Python has a builtin `max()` function; don't use it for this exercise! The goal here is to practice solving basic programming problems on your own.\n",
    "\n",
    "_Purpose:_ To give you practice solving basic programming problems with Python and working with array-like data structures."
   ]
  },
  {
   "cell_type": "code",
   "execution_count": null,
   "metadata": {},
   "outputs": [],
   "source": []
  },
  {
   "cell_type": "markdown",
   "metadata": {},
   "source": [
    "Create and test some sample lists to demonstrate that your `find_max()` function works correctly."
   ]
  },
  {
   "cell_type": "code",
   "execution_count": null,
   "metadata": {},
   "outputs": [],
   "source": []
  },
  {
   "cell_type": "markdown",
   "metadata": {},
   "source": [
    "### Problem 2\n",
    "\n",
    "Write a Python function, `median()`, that returns the median value of a non-empty list of numbers. Use the [usual definition of \"median\"](https://stattrek.com/statistics/dictionary.aspx?definition=median). You will likely find the [Python list documentation](https://docs.python.org/3/tutorial/datastructures.html) to be helpful for solving this problem.\n",
    "\n",
    "_Note:_ You can find ready-to-use median function in numpy and elsewhere; don't use them for this exercise! The goal here is to practice solving basic programming problems on your own.\n",
    "\n",
    "_Purpose:_ To give you practice solving basic programming problems with Python and working with array-like data structures."
   ]
  },
  {
   "cell_type": "code",
   "execution_count": null,
   "metadata": {},
   "outputs": [],
   "source": []
  },
  {
   "cell_type": "markdown",
   "metadata": {},
   "source": [
    "Create and test some sample lists to demonstrate that your `median()` function works correctly."
   ]
  },
  {
   "cell_type": "code",
   "execution_count": null,
   "metadata": {},
   "outputs": [],
   "source": []
  },
  {
   "cell_type": "markdown",
   "metadata": {},
   "source": [
    "### Problem 3\n",
    "\n",
    "Write a Python function to find the roots of a quadratic equation, $ax^2 + bx + c = 0$. (The easiest way to do this is by using the [quadratic formula](https://en.wikipedia.org/wiki/Quadratic_formula) that you learned in algebra: $x = \\frac{-b \\pm \\sqrt{b^2 - 4ac}}{2a}$.)  Your function should take three arguments that represent the  coefficients of the equation to solve (e.g., `find_roots(a, b, c)`). If there are no real roots (i.e., if complex numbers would be required), your function can simply return `None`. You will need to use Python's [math package](https://docs.python.org/3/library/math.html) to solve this problem.\n",
    "\n",
    "You may assume that $a$ is non-zero, but if you'd like an extra challenge, have your function handle the case where $a = 0$; that is, when the equation is linear and not quadratic.\n",
    "\n",
    "_Purpose:_ To give you practice implementing numerical computations in Python, translating mathematical statements to code, and using Python packages. And, of course, to give you practice solving problems with Python."
   ]
  },
  {
   "cell_type": "code",
   "execution_count": null,
   "metadata": {},
   "outputs": [],
   "source": []
  },
  {
   "cell_type": "markdown",
   "metadata": {},
   "source": [
    "Write some code to test your function and confirm it works as expected."
   ]
  },
  {
   "cell_type": "code",
   "execution_count": null,
   "metadata": {},
   "outputs": [],
   "source": []
  }
 ],
 "metadata": {
  "kernelspec": {
   "display_name": "Python 3",
   "language": "python",
   "name": "python3"
  },
  "language_info": {
   "codemirror_mode": {
    "name": "ipython",
    "version": 3
   },
   "file_extension": ".py",
   "mimetype": "text/x-python",
   "name": "python",
   "nbconvert_exporter": "python",
   "pygments_lexer": "ipython3",
   "version": "3.6.9"
  }
 },
 "nbformat": 4,
 "nbformat_minor": 4
}
